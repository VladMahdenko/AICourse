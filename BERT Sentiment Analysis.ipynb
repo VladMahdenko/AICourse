{
 "cells": [
  {
   "cell_type": "code",
   "execution_count": 2,
   "id": "b57aa3d8-b4b6-4f79-a58c-cf7cea952207",
   "metadata": {},
   "outputs": [],
   "source": [
    "# Імпортуємо необхідні модулі з бібліотеки 'transformers' від Hugging Face\n",
    "from transformers import pipeline  # Для пайплайна аналізу настрою\n",
    "from transformers import AutoTokenizer, AutoModelForSequenceClassification  # Для завантаження попередньо натренованого токенізатора та моделі"
   ]
  },
  {
   "cell_type": "code",
   "execution_count": 7,
   "id": "16460091-8976-4405-9061-aafed9b59534",
   "metadata": {},
   "outputs": [],
   "source": [
    "# Визначаємо шлях до локальної директорії, що містить натреновану модель BERT\n",
    "local_dir = \"./models/bert_sentiment\"\n",
    "# Завантажуємо токенізатор з локальної директорії (токенізатор перетворює текст у формат вводу для моделі)\n",
    "tokenizer = AutoTokenizer.from_pretrained(local_dir)\n",
    "# Завантажуємо попередньо натреновану модель з локальної директорії (модель використовується для класифікації настрою)\n",
    "model = AutoModelForSequenceClassification.from_pretrained(local_dir)\n",
    "# Ініціалізуємо пайплайн аналізу сентименту з завантаженою моделлю та токенізатором\n",
    "classifier = pipeline(\"sentiment-analysis\", model=model, tokenizer=tokenizer)"
   ]
  },
  {
   "cell_type": "code",
   "execution_count": 9,
   "id": "e62a11b3-b03d-47ee-b6b4-7654f1305926",
   "metadata": {},
   "outputs": [
    {
     "name": "stdout",
     "output_type": "stream",
     "text": [
      "Text: I absolutely love this product! It works perfectly and exceeded my expectations., Sentiment: 5 stars, Confidence: 0.98\n",
      "Text: The movie was terrible. I regret watching it., Sentiment: 1 star, Confidence: 0.78\n",
      "Text: I'm so happy with my purchase, the quality is amazing!, Sentiment: 5 stars, Confidence: 0.89\n",
      "Text: This restaurant has the worst service. I'll never come back., Sentiment: 1 star, Confidence: 0.93\n",
      "Text: What a fantastic experience! I had so much fun., Sentiment: 5 stars, Confidence: 0.95\n",
      "Text: I feel so disappointed with how things turned out. Such a waste of time., Sentiment: 1 star, Confidence: 0.73\n",
      "Text: The concert was incredible! The energy was amazing and the music was great., Sentiment: 5 stars, Confidence: 0.87\n",
      "Text: I don't like this app at all. It keeps crashing., Sentiment: 1 star, Confidence: 0.62\n",
      "Text: This book is really interesting, I can't put it down., Sentiment: 5 stars, Confidence: 0.49\n",
      "Text: I was really upset with how they handled my complaint. Poor customer service., Sentiment: 1 star, Confidence: 0.53\n"
     ]
    }
   ],
   "source": [
    "# Список текстів для класифікації настрою\n",
    "texts = [\n",
    "    \"I absolutely love this product! It works perfectly and exceeded my expectations.\",  # Позитивний сентимент\n",
    "    \"The movie was terrible. I regret watching it.\",  # Негативний сентимент\n",
    "    \"I'm so happy with my purchase, the quality is amazing!\",  # Позитивний сентимент\n",
    "    \"This restaurant has the worst service. I'll never come back.\",  # Негативний сентимент\n",
    "    \"What a fantastic experience! I had so much fun.\",  # Позитивний сентимент\n",
    "    \"I feel so disappointed with how things turned out. Such a waste of time.\",  # Негативний сентимент\n",
    "    \"The concert was incredible! The energy was amazing and the music was great.\",  # Позитивний сентимент\n",
    "    \"I don't like this app at all. It keeps crashing.\",  # Негативний сентимент\n",
    "    \"This book is really interesting, I can't put it down.\",  # Позитивний сентимент\n",
    "    \"I was really upset with how they handled my complaint. Poor customer service.\"  # Негативний сентимент\n",
    "]\n",
    "\n",
    "# Проходимо через список текстів, виконуємо аналіз настрою для кожного і виводимо результат\n",
    "for text in texts:\n",
    "    result = classifier(text)  # Отримуємо результат аналізу настрою для кожного тексту\n",
    "    print(f\"Text: {text}, Sentiment: {result[0]['label']}, Confidence: {result[0]['score']:.2f}\")\n",
    "    # Виводимо текст, передбачену мітку сентименту та оцінку впевненості (форматовану до 2 знаків після коми)"
   ]
  },
  {
   "cell_type": "code",
   "execution_count": null,
   "id": "4d854c2a-3ed7-4bc8-9269-c8cb4994521a",
   "metadata": {},
   "outputs": [],
   "source": []
  }
 ],
 "metadata": {
  "kernelspec": {
   "display_name": "Python 3 (ipykernel)",
   "language": "python",
   "name": "python3"
  },
  "language_info": {
   "codemirror_mode": {
    "name": "ipython",
    "version": 3
   },
   "file_extension": ".py",
   "mimetype": "text/x-python",
   "name": "python",
   "nbconvert_exporter": "python",
   "pygments_lexer": "ipython3",
   "version": "3.12.7"
  }
 },
 "nbformat": 4,
 "nbformat_minor": 5
}
