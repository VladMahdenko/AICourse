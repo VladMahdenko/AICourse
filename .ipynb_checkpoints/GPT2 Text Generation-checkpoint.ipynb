{
 "cells": [
  {
   "cell_type": "code",
   "execution_count": 2,
   "id": "e52d1423-2265-4d07-89a4-97e5736f11e8",
   "metadata": {},
   "outputs": [
    {
     "name": "stdout",
     "output_type": "stream",
     "text": [
      "WARNING:tensorflow:From D:\\Projects\\AI2\\.venv\\Lib\\site-packages\\tf_keras\\src\\losses.py:2976: The name tf.losses.sparse_softmax_cross_entropy is deprecated. Please use tf.compat.v1.losses.sparse_softmax_cross_entropy instead.\n",
      "\n"
     ]
    }
   ],
   "source": [
    "# Імпортуємо необхідні бібліотеки з transformers\n",
    "from transformers import pipeline, set_seed\n",
    "# Ініціалізуємо пайплайн для генерації тексту з використанням моделі GPT-2 від спільноти OpenAI\n",
    "generator = pipeline(\"text-generation\", model=\"openai-community/gpt2\")"
   ]
  },
  {
   "cell_type": "code",
   "execution_count": 8,
   "id": "df60899d-fbc9-4a32-97ba-118c8e3a3cd9",
   "metadata": {},
   "outputs": [
    {
     "name": "stderr",
     "output_type": "stream",
     "text": [
      "Setting `pad_token_id` to `eos_token_id`:None for open-end generation.\n",
      "Setting `pad_token_id` to `eos_token_id`:None for open-end generation.\n"
     ]
    },
    {
     "name": "stdout",
     "output_type": "stream",
     "text": [
      "Generated text for prompt \"Once upon a time in a kingdom far, far away, there lived a \": Once upon a time in a kingdom far, far away, there lived a __________. What he was was neither good nor evil, nor was he an old man, nor a foolish man, but a good Christian-- an even wise-hearted man. The only thing of value or use the man of today could be to become wise. But the man of tomorrow would be even more wise than the man in the first two centuries of his rule. He would understand, or would learn, or\n"
     ]
    },
    {
     "name": "stderr",
     "output_type": "stream",
     "text": [
      "Setting `pad_token_id` to `eos_token_id`:None for open-end generation.\n"
     ]
    },
    {
     "name": "stdout",
     "output_type": "stream",
     "text": [
      "Generated text for prompt \"In a dystopian future where technology controls every aspect of life, a group of rebels decides to\": In a dystopian future where technology controls every aspect of life, a group of rebels decides to follow the trail of justice. Their mission: Kill the leaders on the run from an anti-government, anti-human-rights group. Written by Anonymous\n"
     ]
    },
    {
     "name": "stderr",
     "output_type": "stream",
     "text": [
      "Setting `pad_token_id` to `eos_token_id`:None for open-end generation.\n"
     ]
    },
    {
     "name": "stdout",
     "output_type": "stream",
     "text": [
      "Generated text for prompt \"There is cat who thinks it's a dog\": There is cat who thinks it's a dog. But what are they like? How does the cat's brain go about interpreting reality? How do they think? Is the cat scared of being a monkey? Or did they simply get scared because of a dog?\n",
      "\n",
      "\n",
      "For centuries we've been told that cats have all these wonderful abilities. It sounds cruel when we think of what they would have done to a dog, but in fact they seem able to understand their environment with their eyes. They can\n"
     ]
    },
    {
     "name": "stderr",
     "output_type": "stream",
     "text": [
      "Setting `pad_token_id` to `eos_token_id`:None for open-end generation.\n"
     ]
    },
    {
     "name": "stdout",
     "output_type": "stream",
     "text": [
      "Generated text for prompt \"Life of a medieval knight in the 12th century is\": Life of a medieval knight in the 12th century is very much as it sounds. His name is Elba, but not Elba II, for he was not one of the nine knights of the original Kingsguard. Elba, as the name implies, was a famous knight, and while in Scotland, he fought some battles like Barrowgate. After his escape from exile, the brothers lived in the monastery of Eilis in Scotland until the year 1216. The monastery was set up\n",
      "Generated text for prompt \"My advise for you is\": My advise for you is don't use a tangerine that comes with a bottle because of an oil burn. You can use a flake or salt oil and use a water distilling press or ice. You should use a tangerine when you don't want to add your liqueur. If you add it to your liqueur and it is quite hard, it can cause irritation and burns all over the liqueur. It is best to try and add something else that works\n"
     ]
    }
   ],
   "source": [
    "# Встановлюємо випадкове значення для відтворюваності згенерованого тексту\n",
    "set_seed(12)\n",
    "# Список рядків підказок, які будуть використовуватись для генерації тексту\n",
    "prompts = [\n",
    "    \"Once upon a time in a kingdom far, far away, there lived a \",  # Підказка 1: Початок казки\n",
    "    \"In a dystopian future where technology controls every aspect of life, a group of rebels decides to\",  # Підказка 2: Початок науково-фантастичної історії\n",
    "    \"There is cat who thinks it's a dog\",  # Підказка 3: Гумористична підказка\n",
    "    \"Life of a medieval knight in the 12th century is\",  # Підказка 4: Історичний контекст для генерації історії\n",
    "    \"My advise for you is\"  # Підказка 5: Надаємо пораду чи рекомендацію\n",
    "]\n",
    "\n",
    "# Проходимо по кожній підказці для генерації і виведення відповідного тексту\n",
    "for prompt in prompts:\n",
    "    # Генеруємо текст за допомогою моделі на основі поточної підказки, максимальна довжина 100 символів та 1 варіант\n",
    "    results = generator(prompt, max_length=100, num_return_sequences=1)\n",
    "    \n",
    "    # Виводимо згенерований текст для поточної підказки\n",
    "    # Отримуємо згенерований текст з результатів і виводимо його\n",
    "    print(f\"Generated text for prompt \\\"{prompt}\\\": {results[0]['generated_text']}\")\n"
   ]
  },
  {
   "cell_type": "code",
   "execution_count": null,
   "id": "e5349ea2-2bbe-4640-bfd7-47c479c577f1",
   "metadata": {},
   "outputs": [],
   "source": []
  }
 ],
 "metadata": {
  "kernelspec": {
   "display_name": "Python 3 (ipykernel)",
   "language": "python",
   "name": "python3"
  },
  "language_info": {
   "codemirror_mode": {
    "name": "ipython",
    "version": 3
   },
   "file_extension": ".py",
   "mimetype": "text/x-python",
   "name": "python",
   "nbconvert_exporter": "python",
   "pygments_lexer": "ipython3",
   "version": "3.12.7"
  }
 },
 "nbformat": 4,
 "nbformat_minor": 5
}
