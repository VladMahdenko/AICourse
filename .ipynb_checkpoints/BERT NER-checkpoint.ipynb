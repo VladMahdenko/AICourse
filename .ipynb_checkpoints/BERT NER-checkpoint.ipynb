{
 "cells": [
  {
   "cell_type": "code",
   "execution_count": 25,
   "id": "a3ab40a7-82c5-4648-bfc6-44527ea5768c",
   "metadata": {},
   "outputs": [],
   "source": [
    "# Імпортуємо необхідні модулі з бібліотеки transformers\n",
    "from transformers import BertTokenizer, BertForTokenClassification\n",
    "from transformers import pipeline"
   ]
  },
  {
   "cell_type": "code",
   "execution_count": 26,
   "id": "c88f47b0-30f0-404a-bbe7-da4999c50582",
   "metadata": {},
   "outputs": [],
   "source": [
    "# Завантажуємо попередньо натренований токенізатор BERT та модель для розпізнавання іменованих сутностей (NER)\n",
    "local_dir = \"./models/bert_ner\"  # Вкажіть директорію, де збережена модель BERT\n",
    "tokenizer = BertTokenizer.from_pretrained(local_dir)  # Завантажуємо токенізатор\n",
    "model = BertForTokenClassification.from_pretrained(local_dir)  # Завантажуємо попередньо натреновану модель для класифікації токенів\n",
    "\n",
    "# Ініціалізуємо пайплайн для розпізнавання іменованих сутностей (NER) за допомогою попередньо натренованої моделі та токенізатора\n",
    "ner_pipeline = pipeline(\"ner\", model=model, tokenizer=tokenizer)"
   ]
  },
  {
   "cell_type": "code",
   "execution_count": 27,
   "id": "5b32ab94-0156-48dc-8ad5-73dde9fcbfc1",
   "metadata": {},
   "outputs": [
    {
     "name": "stdout",
     "output_type": "stream",
     "text": [
      "Entity: Ukraine, Label: B-LOC, Score: 1.00\n",
      "Entity: Eastern, Label: B-LOC, Score: 0.92\n",
      "Entity: Europe, Label: I-LOC, Score: 0.94\n",
      "Entity: K, Label: B-LOC, Score: 1.00\n",
      "Entity: ##yi, Label: I-LOC, Score: 0.84\n",
      "Entity: ##v, Label: B-LOC, Score: 0.97\n",
      "Entity: Lviv, Label: B-LOC, Score: 1.00\n",
      "Entity: O, Label: B-LOC, Score: 1.00\n",
      "Entity: ##des, Label: I-LOC, Score: 0.92\n",
      "Entity: ##a, Label: I-LOC, Score: 0.99\n",
      "Entity: Black, Label: B-LOC, Score: 1.00\n",
      "Entity: Sea, Label: I-LOC, Score: 1.00\n",
      "Entity: Ukraine, Label: B-LOC, Score: 1.00\n",
      "Entity: Vol, Label: B-PER, Score: 1.00\n",
      "Entity: ##ody, Label: B-PER, Score: 0.96\n",
      "Entity: ##my, Label: I-PER, Score: 0.97\n",
      "Entity: ##r, Label: B-PER, Score: 0.83\n",
      "Entity: Z, Label: I-PER, Score: 1.00\n",
      "Entity: ##ele, Label: I-PER, Score: 1.00\n",
      "Entity: ##nsky, Label: I-PER, Score: 1.00\n",
      "Entity: ##y, Label: I-PER, Score: 0.98\n",
      "Entity: Ukraine, Label: B-LOC, Score: 1.00\n",
      "Entity: Ukraine, Label: B-LOC, Score: 1.00\n",
      "Entity: And, Label: B-PER, Score: 1.00\n",
      "Entity: ##ri, Label: B-PER, Score: 0.97\n",
      "Entity: ##y, Label: B-PER, Score: 0.94\n",
      "Entity: She, Label: I-PER, Score: 1.00\n",
      "Entity: ##v, Label: I-PER, Score: 1.00\n",
      "Entity: ##chenko, Label: I-PER, Score: 0.97\n",
      "Entity: Tara, Label: B-PER, Score: 1.00\n",
      "Entity: ##s, Label: B-PER, Score: 0.98\n",
      "Entity: She, Label: I-PER, Score: 1.00\n",
      "Entity: ##v, Label: I-PER, Score: 1.00\n",
      "Entity: ##chenko, Label: I-PER, Score: 1.00\n",
      "Entity: Ukraine, Label: B-LOC, Score: 1.00\n"
     ]
    }
   ],
   "source": [
    "# Визначаємо текст для розпізнавання іменованих сутностей\n",
    "text = \"Ukraine is a country in Eastern Europe. The capital city is Kyiv, which is known for its rich history and beautiful architecture. Lviv, another prominent city in the western part of the country, is famous for its cultural heritage. Odesa, on the Black Sea coast, is known for its picturesque beaches and vibrant nightlife. One of Ukraine's most famous personalities is Volodymyr Zelenskyy, the current President of Ukraine. He is known for his leadership during the ongoing conflict in Ukraine. Another notable figure is Andriy Shevchenko, a legendary football player who is widely regarded as one of the greatest footballers in the history of the sport. Taras Shevchenko, a renowned poet and artist, is considered the national poet of Ukraine, and his works are revered in the country.\"\n",
    "\n",
    "# Запускаємо пайплайн NER на вхідному тексті для виділення сутностей\n",
    "ner_results = ner_pipeline(text)\n",
    "\n",
    "# Виводимо виявлені сутності разом з їх міткою та оцінкою впевненості\n",
    "for entity in ner_results:\n",
    "    print(f\"Entity: {entity['word']}, Label: {entity['entity']}, Score: {entity['score']:.2f}\")"
   ]
  },
  {
   "cell_type": "code",
   "execution_count": 28,
   "id": "9591089d-286e-4d2c-9293-95145509f82d",
   "metadata": {},
   "outputs": [
    {
     "name": "stdout",
     "output_type": "stream",
     "text": [
      "Entities found:\n",
      "Taras, Kyiv, Sea, Zelenskyy, Black, Ukraine, Europe, Eastern, Odesa, Lviv, Shevchenko, Volodymyr, Andriy\n"
     ]
    }
   ],
   "source": [
    "# Створюємо порожній список для зберігання слів без префіксів підслів\n",
    "words = []\n",
    "\n",
    "# Проходимо по результатах NER для відновлення повних слів (у разі підслів, що позначаються як '##')\n",
    "for entity in ner_results:\n",
    "    if entity['word'].startswith(\"##\"):  # Перевіряємо, чи є слово підсловом (позначеним як '##')\n",
    "        words[-1] += entity['word'][2:]  # Додаємо підслово до попереднього слова\n",
    "    else:\n",
    "        words.append(entity['word'])  # Додаємо нове слово, якщо це не підслово\n",
    "\n",
    "# Виводимо унікальні сутності, виявлені в тексті\n",
    "print(\"Entities found:\")\n",
    "print(\", \".join(set(words)))  # Виводимо унікальні слова, видаляючи дублікати"
   ]
  },
  {
   "cell_type": "code",
   "execution_count": null,
   "id": "4da13943-d148-457f-9190-0f5146d1486b",
   "metadata": {},
   "outputs": [],
   "source": []
  }
 ],
 "metadata": {
  "kernelspec": {
   "display_name": "Python 3 (ipykernel)",
   "language": "python",
   "name": "python3"
  },
  "language_info": {
   "codemirror_mode": {
    "name": "ipython",
    "version": 3
   },
   "file_extension": ".py",
   "mimetype": "text/x-python",
   "name": "python",
   "nbconvert_exporter": "python",
   "pygments_lexer": "ipython3",
   "version": "3.12.7"
  }
 },
 "nbformat": 4,
 "nbformat_minor": 5
}
